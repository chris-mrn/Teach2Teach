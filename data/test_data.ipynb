{
 "cells": [
  {
   "cell_type": "code",
   "execution_count": 52,
   "id": "9b2748c4",
   "metadata": {},
   "outputs": [
    {
     "name": "stdout",
     "output_type": "stream",
     "text": [
      "Downloading https://www.cs.toronto.edu/~kriz/cifar-10-python.tar.gz to /Users/christophermarouani/Desktop/cifar-10-batches-py1/cifar-10-python.tar.gz\n"
     ]
    },
    {
     "name": "stderr",
     "output_type": "stream",
     "text": [
      "100%|██████████| 170498071/170498071 [00:09<00:00, 18792145.54it/s]\n"
     ]
    },
    {
     "name": "stdout",
     "output_type": "stream",
     "text": [
      "Extracting /Users/christophermarouani/Desktop/cifar-10-batches-py1/cifar-10-python.tar.gz to /Users/christophermarouani/Desktop/cifar-10-batches-py1\n"
     ]
    }
   ],
   "source": [
    "import torchvision\n",
    "import torchvision.transforms as transforms\n",
    "\n",
    "transform = transforms.Compose(\n",
    "    [transforms.ToTensor(),\n",
    "     transforms.Normalize((0.5, 0.5, 0.5), (0.5, 0.5, 0.5))])\n",
    "\n",
    "root_cifar = '/Users/christophermarouani/Desktop/cifar-10-batches-py1'\n",
    "cifar_data = torchvision.datasets.CIFAR10(root_cifar, download=True, transform=transform)\n"
   ]
  },
  {
   "cell_type": "code",
   "execution_count": 57,
   "id": "5e1e4d35",
   "metadata": {},
   "outputs": [],
   "source": [
    "\n",
    "root_mnist = '/Users/christophermarouani/Desktop/MNIST'\n",
    "mnist_data = torchvision.datasets.MNIST(root_mnist, download=True, transform=transform)"
   ]
  },
  {
   "cell_type": "code",
   "execution_count": 58,
   "id": "a6634b21",
   "metadata": {},
   "outputs": [
    {
     "name": "stdout",
     "output_type": "stream",
     "text": [
      "torch.Size([60000, 28, 28])\n"
     ]
    }
   ],
   "source": [
    "data = mnist_data.data\n",
    "print(data.shape)"
   ]
  },
  {
   "cell_type": "code",
   "execution_count": null,
   "id": "7a5c5bc9",
   "metadata": {},
   "outputs": [],
   "source": [
    "\n",
    "data = data.unsqueeze(1)"
   ]
  },
  {
   "cell_type": "code",
   "execution_count": 60,
   "id": "d8b1491e",
   "metadata": {},
   "outputs": [
    {
     "name": "stdout",
     "output_type": "stream",
     "text": [
      "torch.Size([60000, 1, 28, 28])\n"
     ]
    }
   ],
   "source": [
    "print(data.shape)"
   ]
  },
  {
   "cell_type": "code",
   "execution_count": 53,
   "id": "69148cfc",
   "metadata": {},
   "outputs": [
    {
     "name": "stdout",
     "output_type": "stream",
     "text": [
      "(50000, 32, 32, 3)\n",
      "<class 'numpy.ndarray'>\n"
     ]
    }
   ],
   "source": [
    "print(cifar_data.data.shape)\n",
    "\n",
    "print(type(cifar_data.data))"
   ]
  },
  {
   "cell_type": "code",
   "execution_count": 49,
   "id": "7ea308cb",
   "metadata": {},
   "outputs": [],
   "source": [
    "data = cifar_data.data"
   ]
  },
  {
   "cell_type": "code",
   "execution_count": 54,
   "id": "139f8cee",
   "metadata": {},
   "outputs": [
    {
     "name": "stdout",
     "output_type": "stream",
     "text": [
      "(50000, 32, 32, 3)\n"
     ]
    }
   ],
   "source": [
    "print(data.shape)"
   ]
  },
  {
   "cell_type": "code",
   "execution_count": 55,
   "id": "8cace844",
   "metadata": {},
   "outputs": [
    {
     "name": "stdout",
     "output_type": "stream",
     "text": [
      "<class 'numpy.ndarray'>\n"
     ]
    }
   ],
   "source": [
    "print(type(data[0, :, :, 0]))"
   ]
  },
  {
   "cell_type": "code",
   "execution_count": 36,
   "id": "10593001",
   "metadata": {},
   "outputs": [],
   "source": [
    "import torch\n",
    "X0 = torch.rand_like(torch.Tensor(cifar_data.data))"
   ]
  },
  {
   "cell_type": "code",
   "execution_count": 37,
   "id": "ac209964",
   "metadata": {},
   "outputs": [
    {
     "name": "stdout",
     "output_type": "stream",
     "text": [
      "torch.Size([50000, 32, 32, 3])\n"
     ]
    }
   ],
   "source": [
    "print(X0.shape)"
   ]
  },
  {
   "cell_type": "code",
   "execution_count": 30,
   "id": "ba08aa6f",
   "metadata": {},
   "outputs": [],
   "source": [
    "import torch\n",
    "batch_size = 32\n",
    "trainloader = torch.utils.data.DataLoader(cifar_data, batch_size=batch_size,\n",
    "                                          shuffle=True, num_workers=2)"
   ]
  },
  {
   "cell_type": "code",
   "execution_count": null,
   "id": "92e63895",
   "metadata": {},
   "outputs": [],
   "source": []
  },
  {
   "cell_type": "code",
   "execution_count": 31,
   "id": "9f2ef350",
   "metadata": {},
   "outputs": [],
   "source": [
    "# get some random training images\n",
    "dataiter = iter(trainloader)\n",
    "images, labels = next(dataiter)"
   ]
  },
  {
   "cell_type": "code",
   "execution_count": 32,
   "id": "25d3fe3a",
   "metadata": {},
   "outputs": [
    {
     "name": "stdout",
     "output_type": "stream",
     "text": [
      "torch.Size([32, 3, 32, 32])\n"
     ]
    }
   ],
   "source": [
    "print(images.shape)"
   ]
  },
  {
   "cell_type": "code",
   "execution_count": 13,
   "id": "4bb53fa4",
   "metadata": {},
   "outputs": [
    {
     "name": "stdout",
     "output_type": "stream",
     "text": [
      "(<PIL.Image.Image image mode=RGB size=32x32 at 0x135468220>, 6)\n"
     ]
    }
   ],
   "source": [
    "print(data[0])"
   ]
  },
  {
   "cell_type": "code",
   "execution_count": 23,
   "id": "582b6738",
   "metadata": {},
   "outputs": [
    {
     "data": {
      "image/jpeg": "[encoded data removed]",
      "image/png": "[encoded data removed]",
      "text/plain": [
       "<PIL.Image.Image image mode=RGB size=32x32>"
      ]
     },
     "metadata": {},
     "output_type": "display_data"
    }
   ],
   "source": [
    "import matplotlib.pyplot as plt\n",
    "import numpy as np\n",
    "img, _ = data[1]\n",
    "\n",
    "display(img)"
   ]
  }
 ],
 "metadata": {
  "kernelspec": {
   "display_name": "svgd",
   "language": "python",
   "name": "python3"
  },
  "language_info": {
   "codemirror_mode": {
    "name": "ipython",
    "version": 3
   },
   "file_extension": ".py",
   "mimetype": "text/x-python",
   "name": "python",
   "nbconvert_exporter": "python",
   "pygments_lexer": "ipython3",
   "version": "3.10.16"
  }
 },
 "nbformat": 4,
 "nbformat_minor": 5
}
